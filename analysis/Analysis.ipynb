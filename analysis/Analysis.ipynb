{
 "cells": [
  {
   "cell_type": "markdown",
   "metadata": {},
   "source": [
    "Part of the analysis consist of wrangling with data till will get the final form.\n",
    "This notebook has the functions which go in the database and aggregate needed columns\n",
    "\n",
    "These are the columns and a little explanation for each one\n",
    "\n",
    "**ID** - ego unique identification\n",
    "**EGO_COUNTRY** - country of current affiliation of ego\n",
    "**EGO_PAPERS** - total number of ego publications *(to be noted, data was scraped in september 2018 - january 2019, Scopus keep indexing documents, from later and former years)*\n",
    "**EGO_CITATIONS** - total number of ego citations, *same note as above*\n",
    "**EGO_COAUTHORS** - total number of authors in ego network\n",
    "**EGO_EDGES** - unique collaboration with each author in each year, if ego did wrote in 2010 and 2011 with same author 5 documents, will be counted as 2, (2010 and 2011)\n",
    "**ALTER_DOMESTIC** - how many authors have same affiliation country as ego\n",
    "**ALTER_NONDOMESTIC** - how many authors does not have same affiliation country as ego\n",
    "**ALTER_CITATIONS** - cumulated sum of coauthors citations\n",
    "**ALTER_PAPERS** - cumulated sum of coauthors articles (with or without ego)\n",
    "**ALTER_EGO_PAPERS** - how many articles did ego wrote with his coauthors\n",
    "**ALTER_EGO_CITATIONS** - to be excluded (not all articles does have citations)\n",
    "**ALTER_COUNTRY** - number of different nondomestic countries\n",
    "**ALTER_COUNTRIES** - list of nondomestic countries\n",
    "**ALTER_MAX_PAPERS** - the author from ego network which has most papers\n",
    "**ALTER_MAX_CITATIONS** - the author from ego network which has most citations\n",
    "**EGO_BETWEENES** - centrality score of ego in his network\n"
   ]
  },
  {
   "cell_type": "code",
   "execution_count": 1,
   "metadata": {},
   "outputs": [],
   "source": [
    "%config InlineBackend.figure_format = 'retina'\n",
    "import findspark\n",
    "findspark.init()\n",
    "\n",
    "import ast\n",
    "import pandas as pd\n",
    "import numpy as np\n",
    "import os\n",
    "from pyspark import SparkContext,SparkConf\n",
    "from pyspark.sql import SQLContext, Row, SparkSession\n",
    "from pyspark.sql.types import *\n",
    "import pyspark.sql.functions as F\n",
    "import time\n",
    "import matplotlib.pyplot as plt\n",
    "import seaborn as sns\n",
    "import matplotlib.style as style\n",
    "from slugify import slugify"
   ]
  },
  {
   "cell_type": "code",
   "execution_count": 2,
   "metadata": {},
   "outputs": [],
   "source": [
    "sc = SparkContext.getOrCreate()\n",
    "sqlContext = SQLContext(sc)"
   ]
  },
  {
   "cell_type": "markdown",
   "metadata": {},
   "source": [
    "Load data from parquet files, which were saved from the sqlite database using `to_parquet.py` file"
   ]
  },
  {
   "cell_type": "code",
   "execution_count": 19,
   "metadata": {},
   "outputs": [],
   "source": [
    "authors = sqlContext.read.parquet('./data/authors')\n",
    "collaborations = sqlContext.read.parquet('./data/collaborations')\n",
    "collaborations = collaborations.withColumn('published', F.to_date(F.col('published')))\n",
    "collaborations = collaborations.withColumn('year', F.year(F.col('published')))\n",
    "collaborations = collaborations.withColumnRenamed('author_id', 'auth_id')\n",
    "collaborations = collaborations.withColumn('auth_id', collaborations.auth_id.cast('bigint'))\n",
    "ego_alters = sqlContext.read.parquet('./data/ego_alters')\n",
    "# Compute authors citations based on downloaded papers\n",
    "# Because not all articles for authors were scraped we need to base our analysis on grounded data, not missing\n",
    "authors = authors.join(collaborations, collaborations.auth_id == authors.id, 'INNER') \\\n",
    "        .groupby([authors.id]) \\\n",
    "        .agg( \\\n",
    "            F.count('abs_id').alias('EGO_PAPERS'), \\\n",
    "            F.first('cited_by_count').alias('CITATIONS_SCOPUS'), \\\n",
    "            F.sum('cited_by').alias('EGO_CITATIONS'), \\\n",
    "            F.first('cat').alias('cat'), \\\n",
    "            F.first('country').alias('country'))\n",
    "# Exclude articles which have errors\n",
    "collaborations = collaborations.filter(collaborations.abs_id != 85032509284)"
   ]
  },
  {
   "cell_type": "markdown",
   "metadata": {},
   "source": [
    "Search for most citated authors on PHYS category from UE and get the EGOs"
   ]
  },
  {
   "cell_type": "code",
   "execution_count": 28,
   "metadata": {},
   "outputs": [],
   "source": [
    "countries = ['Austria', 'Belgium', 'Bulgaria', 'Croatia', 'Cyprus', 'Czech Republic', \n",
    "             'Denmark', 'Estonia', 'Finland', 'France', 'Germany', 'Greece', 'Hungary', \n",
    "             'Ireland', 'Italy', 'Latvia', 'Lithuania', 'Luxembourg', 'Malta', 'Netherlands',\n",
    "             'Poland', 'Portugal', 'Romania', 'Slovakia', 'Slovenia', 'Spain', 'Sweden', 'United Kingdom']\n",
    "\n",
    "most_cited_phys = authors.orderBy(F.col('EGO_CITATIONS').desc()) \\\n",
    "    .filter(F.col('country').isin(countries)) \\\n",
    "    .filter(F.col('cat').like('%PHYS%')) \\\n",
    "    .limit(1200) \\\n",
    "    .select(authors.id.alias('ID'), authors.country.alias('EGO_COUNTRY'), 'EGO_PAPERS', 'EGO_CITATIONS')"
   ]
  },
  {
   "cell_type": "markdown",
   "metadata": {},
   "source": [
    "Get the coauthors of each ego\n",
    "- First get ego collaborations\n",
    "- Then get authors of collaborations and exclude duplicate articles of ego\n",
    "- Obtain data about coauthors"
   ]
  },
  {
   "cell_type": "code",
   "execution_count": 35,
   "metadata": {},
   "outputs": [
    {
     "name": "stdout",
     "output_type": "stream",
     "text": [
      "+-----------+-----------+----------+-------------+-----------+----------------+------------------+---------------+\n",
      "|         ID|EGO_COUNTRY|EGO_PAPERS|EGO_CITATIONS|coauthor_id|coauthor_country|coauthor_citations|coauthor_papers|\n",
      "+-----------+-----------+----------+-------------+-----------+----------------+------------------+---------------+\n",
      "| 6506585188|Netherlands|      1231|        22983| 6504152908|     Netherlands|             22983|           1231|\n",
      "| 6506585188|Netherlands|      1231|        22983| 6504152908|     Netherlands|             22983|           1231|\n",
      "| 6506585188|Netherlands|      1231|        22983| 6504152908|     Netherlands|             22983|           1231|\n",
      "|36048731400|Netherlands|      1028|        42326| 6504152908|     Netherlands|             42326|           1028|\n",
      "| 6603547661|Netherlands|       699|        12809| 6504152908|     Netherlands|             12809|            699|\n",
      "| 6603547661|Netherlands|       699|        12809| 6504152908|     Netherlands|             12809|            699|\n",
      "| 6603547661|Netherlands|       699|        12809| 6504152908|     Netherlands|             12809|            699|\n",
      "| 6506585188|Netherlands|      1231|        22983| 6504152908|     Netherlands|             22983|           1231|\n",
      "|36048731400|Netherlands|      1028|        42326| 6504152908|     Netherlands|             42326|           1028|\n",
      "|36048731400|Netherlands|      1028|        42326| 6504152908|     Netherlands|             42326|           1028|\n",
      "+-----------+-----------+----------+-------------+-----------+----------------+------------------+---------------+\n",
      "only showing top 10 rows\n",
      "\n"
     ]
    }
   ],
   "source": [
    "# Select each ego articles \n",
    "most_cited_phys_coauthors = most_cited_phys.join(collaborations, F.col('ID') == collaborations.auth_id.alias('todel1'), 'inner')\n",
    "most_cited_phys_coauthors = most_cited_phys_coauthors.select('ID', 'EGO_COUNTRY', 'EGO_PAPERS', 'EGO_CITATIONS', F.col('abs_id').alias('coll_id'))\n",
    "\n",
    "# Based on ego articles select his coauthors\n",
    "most_cited_phys_coauthors = most_cited_phys_coauthors \\\n",
    "    .join(collaborations, most_cited_phys_coauthors.coll_id == collaborations.abs_id, 'INNER') \\\n",
    "    .filter(F.col('ID') != F.col('auth_id'))\n",
    "\n",
    "# And keep only columns which interest us\n",
    "most_cited_phys_coauthors = most_cited_phys_coauthors.select('ID', 'EGO_COUNTRY', 'EGO_PAPERS', 'EGO_CITATIONS', F.col('auth_id').alias('coauthor_id'))\n",
    "\n",
    "most_cited_phys_coauthors = most_cited_phys_coauthors.join(authors, most_cited_phys_coauthors.coauthor_id == authors['ID']) \\\n",
    "    .select( \\\n",
    "        most_cited_phys_coauthors['ID'], \\\n",
    "        most_cited_phys_coauthors['EGO_COUNTRY'], \\\n",
    "        most_cited_phys_coauthors['EGO_PAPERS'], \\\n",
    "        most_cited_phys_coauthors['EGO_CITATIONS'], \\\n",
    "        'coauthor_id', \\\n",
    "        F.col('country').alias('coauthor_country'), \\\n",
    "        authors['EGO_CITATIONS'].alias('coauthor_citations'), \\\n",
    "        authors['EGO_PAPERS'].alias('coauthor_papers'))\n",
    "\n",
    "most_cited_phys_coauthors.show(10)\n"
   ]
  },
  {
   "cell_type": "code",
   "execution_count": 4,
   "metadata": {},
   "outputs": [],
   "source": []
  },
  {
   "cell_type": "markdown",
   "metadata": {},
   "source": [
    "Code down from here should be organized and explain, feel free to test it or add comments\n",
    "This function does build network of each ego and saves it"
   ]
  },
  {
   "cell_type": "code",
   "execution_count": 6,
   "metadata": {},
   "outputs": [],
   "source": [
    "def ego_alters():\n",
    "    publications = collaborations.filter(collaborations.auth_id.isin(list(networks.index))).select(collaborations.auth_id.alias('ego_id'),collaborations.abs_id.alias('todel1'))\n",
    "    alter_publications = publications.join(collaborations, publications.todel1 == collaborations.abs_id, 'inner')\n",
    "    ego_alters = alter_publications.dropDuplicates(['ego_id', 'auth_id']).groupby([alter_publications.ego_id, alter_publications.auth_id]).count() \n",
    "    # alter_publications.show(20)\n",
    "    # ego_alters.write.parquet('./data/ego_alters')"
   ]
  },
  {
   "cell_type": "markdown",
   "metadata": {},
   "source": [
    "Look how much missing data there is in collaboration papers"
   ]
  },
  {
   "cell_type": "code",
   "execution_count": 5,
   "metadata": {},
   "outputs": [
    {
     "name": "stdout",
     "output_type": "stream",
     "text": [
      "+------+--------+--------+-------+----+\n",
      "|abs_id|cited_by|keywords|auth_id|year|\n",
      "+------+--------+--------+-------+----+\n",
      "|     0|     162|12900432|      0| 280|\n",
      "+------+--------+--------+-------+----+\n",
      "\n"
     ]
    }
   ],
   "source": [
    "authors_cits = authors.join(collaborations, collaborations.auth_id == authors.id, 'inner') \\\n",
    "    .groupby([authors.id]) \\\n",
    "    .agg(F.sum(collaborations.cited_by).alias('cited_by_count2'))\n",
    "\n",
    "#authors_cits.show(20)\n",
    "collaborations.select([F.count(F.when(F.isnan(c) | F.col(c).isNull(), c)).alias(c) for c in collaborations.columns if c != 'published']).show()\n"
   ]
  },
  {
   "cell_type": "code",
   "execution_count": 7,
   "metadata": {},
   "outputs": [],
   "source": [
    "def ego_papers():\n",
    "    papers = authors.filter(authors.id.isin(list(networks.index))).join(collaborations, collaborations.auth_id == authors.id.alias('ID'), 'left') \\\n",
    "        .groupby([authors.id.alias('ID')]).agg(F.count('abs_id').alias('EGO_PAPERS2'))\n",
    "    to_p = papers.toPandas()\n",
    "    to_p['ID'] = to_p['ID'].astype(str)\n",
    "    return to_p"
   ]
  },
  {
   "cell_type": "markdown",
   "metadata": {},
   "source": [
    "Get authors with missing countries"
   ]
  },
  {
   "cell_type": "code",
   "execution_count": 4,
   "metadata": {},
   "outputs": [],
   "source": [
    "alters_data = ego_alters.join(authors, ego_alters.auth_id == authors.id, 'left')\n",
    "missing_country = alters_data.filter(alters_data.country.isNull()).groupby(alters_data.auth_id).count().toPandas()\n",
    "missing_country.to_csv('./missing_country_phys.csv')"
   ]
  },
  {
   "cell_type": "code",
   "execution_count": 8,
   "metadata": {},
   "outputs": [],
   "source": [
    "def grown_percent(row):\n",
    "        if row['EGO_PAPERS2'] > 0:\n",
    "            diff = row['EGO_PAPERS'] - row['EGO_PAPERS2']\n",
    "            return (diff*100)/row['EGO_PAPERS2']\n",
    "        else:\n",
    "            return 100\n",
    "def compute_percent_of_paper_grown():\n",
    "    grouped = networks.combine_first(ego_papers().set_index('ID'))\n",
    "    \n",
    "    grouped['PAPERS_GROWN'] = grouped.apply(lambda row: grown_percent(row), axis=1)\n",
    "    q_75 = grouped[grouped['PAPERS_GROWN'] <= grouped['PAPERS_GROWN'].quantile(.75)]\n",
    "    return q_75['PAPERS_GROWN'].mean()\n",
    "\n",
    "percent_of_paper_grown = compute_percent_of_paper_grown()"
   ]
  },
  {
   "cell_type": "code",
   "execution_count": 9,
   "metadata": {},
   "outputs": [],
   "source": [
    "networks = networks.combine_first(ego_papers().set_index('ID'))\n",
    "networks['PAPERS_GROWN'] = networks.apply(lambda row: grown_percent(row), axis=1)\n",
    "\n",
    "def grow_papers(row):\n",
    "    if row['PAPERS_GROWN'] >= percent_of_paper_grown:\n",
    "        return round((row['EGO_PAPERS2']*percent_of_paper_grown)/100,0)\n",
    "    else:\n",
    "        return row['EGO_PAPERS2']\n",
    "\n",
    "networks['EGO_PAPERS'] = networks.apply(lambda row: grow_papers(row), axis=1)\n",
    "networks.drop(['EGO_PAPERS2', 'PAPERS_GROWN'], axis=1, inplace=True)"
   ]
  },
  {
   "cell_type": "code",
   "execution_count": 14,
   "metadata": {},
   "outputs": [],
   "source": [
    "def alter_provenance():\n",
    "    alters_country = ego_alters.join(authors, ego_alters.auth_id == authors.id).select(F.col('ego_id'), F.col('auth_id'), F.col('country').alias('alter_country'))\n",
    "    alters_country = alters_country.join(authors, alters_country.ego_id == authors.id).select(F.col('ego_id'),F.col('country').alias('ego_country'), F.col('alter_country'), F.col('auth_id'))\n",
    "\n",
    "    def check_provenance(ego_c, alter_c):\n",
    "        if ego_c == alter_c:\n",
    "            return 'domestic'\n",
    "        else:\n",
    "            return 'nondomestic'\n",
    "\n",
    "    provenance = F.udf(check_provenance, StringType())\n",
    "\n",
    "    alters_country = alters_country.withColumn('provenance', provenance('ego_country', 'alter_country'))\n",
    "\n",
    "    alters_country_provenance = alters_country.groupby('ego_id').pivot('provenance', ['domestic', 'nondomestic']).count()\n",
    "    alters_country_provenance = alters_country_provenance.withColumnRenamed('ego_id', 'ID')\n",
    "    alters_country_provenance = alters_country_provenance.withColumnRenamed('domestic', 'ALTER_DOMESTIC')\n",
    "    alters_country_provenance = alters_country_provenance.withColumnRenamed('nondomestic', 'ALTER_NONDOMESTIC')\n",
    "    \n",
    "    to_p = alters_country_provenance.toPandas()\n",
    "    to_p['ID'] = to_p['ID'].astype(str)\n",
    "    return to_p\n",
    "\n",
    "\n",
    "def alter_countries():\n",
    "    alters_country = ego_alters.join(authors, ego_alters.auth_id == authors.id).select(F.col('ego_id'), F.col('auth_id'), F.col('country').alias('alter_country'))\n",
    "    alters_country = alters_country.join(authors, alters_country.ego_id == authors.id).select(F.col('ego_id'),F.col('country').alias('ego_country'), F.col('alter_country'), F.col('auth_id'))\n",
    "\n",
    "    countries = alters_country.groupby('ego_id').agg(F.first('ego_country').alias('ego_country'),F.collect_set('alter_country').alias('ALTER_COUNTRIES'))\n",
    "    countries = countries.withColumnRenamed('ego_id', 'ID')\n",
    "    \n",
    "    to_p = countries.toPandas()\n",
    "    to_p['ID'] = to_p['ID'].astype(str)\n",
    "    \n",
    "    def map_alter_countries(row):\n",
    "        l = list(row['ALTER_COUNTRIES'])\n",
    "        l = [li for li in l if li != row['ego_country']]\n",
    "        return ','.join(l)\n",
    "    \n",
    "    def count_alter_countries(row):\n",
    "        l = list(row['ALTER_COUNTRIES'])\n",
    "        l = [li for li in l if li != row['ego_country']]\n",
    "        return len(l)\n",
    "        \n",
    "    to_p['ALTER_COUNTRIES'] = to_p.apply(lambda row: map_alter_countries(row), axis=1)\n",
    "    to_p['ALTER_COUNTRY'] = to_p.apply(lambda row: count_alter_countries(row), axis=1)\n",
    "    to_p.drop(['ego_country'], axis=1, inplace=True)\n",
    "    return to_p\n"
   ]
  },
  {
   "cell_type": "code",
   "execution_count": 15,
   "metadata": {},
   "outputs": [],
   "source": [
    "networks = networks.combine_first(alter_provenance().set_index('ID'))\n",
    "networks = networks.combine_first(alter_countries().set_index('ID'))\n",
    "networks.to_excel('./baza_date_fizica_temp.xlsx')"
   ]
  },
  {
   "cell_type": "code",
   "execution_count": null,
   "metadata": {},
   "outputs": [],
   "source": []
  },
  {
   "cell_type": "code",
   "execution_count": null,
   "metadata": {},
   "outputs": [],
   "source": []
  }
 ],
 "metadata": {
  "kernelspec": {
   "display_name": "Python 3",
   "language": "python",
   "name": "python3"
  },
  "language_info": {
   "codemirror_mode": {
    "name": "ipython",
    "version": 3
   },
   "file_extension": ".py",
   "mimetype": "text/x-python",
   "name": "python",
   "nbconvert_exporter": "python",
   "pygments_lexer": "ipython3",
   "version": "3.7.2"
  }
 },
 "nbformat": 4,
 "nbformat_minor": 2
}
